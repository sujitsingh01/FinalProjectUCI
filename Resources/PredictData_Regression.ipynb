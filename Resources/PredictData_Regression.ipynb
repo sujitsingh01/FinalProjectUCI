{
 "cells": [
  {
   "cell_type": "code",
   "execution_count": 600,
   "metadata": {},
   "outputs": [],
   "source": [
    "%matplotlib inline\n",
    "import matplotlib.pyplot as plt\n",
    "import numpy as np\n",
    "import pandas as pd\n",
    "import sklearn"
   ]
  },
  {
   "cell_type": "code",
   "execution_count": 640,
   "metadata": {},
   "outputs": [
    {
     "data": {
      "text/html": [
       "<div>\n",
       "<style scoped>\n",
       "    .dataframe tbody tr th:only-of-type {\n",
       "        vertical-align: middle;\n",
       "    }\n",
       "\n",
       "    .dataframe tbody tr th {\n",
       "        vertical-align: top;\n",
       "    }\n",
       "\n",
       "    .dataframe thead th {\n",
       "        text-align: right;\n",
       "    }\n",
       "</style>\n",
       "<table border=\"1\" class=\"dataframe\">\n",
       "  <thead>\n",
       "    <tr style=\"text-align: right;\">\n",
       "      <th></th>\n",
       "      <th>id</th>\n",
       "      <th>number</th>\n",
       "      <th>started_at</th>\n",
       "      <th>manufactured_at</th>\n",
       "      <th>line</th>\n",
       "      <th>SMMainGroup</th>\n",
       "      <th>product_group</th>\n",
       "      <th>product_material</th>\n",
       "      <th>felt_speed</th>\n",
       "      <th>revs</th>\n",
       "      <th>...</th>\n",
       "      <th>cosmos_silica_error</th>\n",
       "      <th>feed_temperature</th>\n",
       "      <th>machine_cone_solids</th>\n",
       "      <th>mor</th>\n",
       "      <th>mor_filled</th>\n",
       "      <th>mor_in_spec</th>\n",
       "      <th>ilb</th>\n",
       "      <th>ilb_filled</th>\n",
       "      <th>ilb_in_spec</th>\n",
       "      <th>cosmos_fracture</th>\n",
       "    </tr>\n",
       "  </thead>\n",
       "  <tbody>\n",
       "    <tr>\n",
       "      <th>0</th>\n",
       "      <td>387913</td>\n",
       "      <td>690349</td>\n",
       "      <td>11/30/2018 5:45</td>\n",
       "      <td>11/30/2018 6:15</td>\n",
       "      <td>SM2</td>\n",
       "      <td>2005557</td>\n",
       "      <td>Batten</td>\n",
       "      <td>4/4\\RusticBattensD15\"</td>\n",
       "      <td>306.870</td>\n",
       "      <td>7</td>\n",
       "      <td>...</td>\n",
       "      <td>-0.4171</td>\n",
       "      <td>108.603</td>\n",
       "      <td>10.7119</td>\n",
       "      <td>NaN</td>\n",
       "      <td>12.223</td>\n",
       "      <td>1</td>\n",
       "      <td>NaN</td>\n",
       "      <td>1.8075</td>\n",
       "      <td>1</td>\n",
       "      <td>86</td>\n",
       "    </tr>\n",
       "    <tr>\n",
       "      <th>1</th>\n",
       "      <td>387914</td>\n",
       "      <td>690350</td>\n",
       "      <td>11/30/2018 5:45</td>\n",
       "      <td>11/30/2018 6:15</td>\n",
       "      <td>SM2</td>\n",
       "      <td>2005557</td>\n",
       "      <td>Batten</td>\n",
       "      <td>4/4\\RusticBattensD15\"</td>\n",
       "      <td>306.870</td>\n",
       "      <td>7</td>\n",
       "      <td>...</td>\n",
       "      <td>-0.4171</td>\n",
       "      <td>108.603</td>\n",
       "      <td>10.7119</td>\n",
       "      <td>NaN</td>\n",
       "      <td>12.223</td>\n",
       "      <td>1</td>\n",
       "      <td>NaN</td>\n",
       "      <td>1.8075</td>\n",
       "      <td>1</td>\n",
       "      <td>86</td>\n",
       "    </tr>\n",
       "    <tr>\n",
       "      <th>6</th>\n",
       "      <td>387919</td>\n",
       "      <td>690351</td>\n",
       "      <td>11/30/2018 6:21</td>\n",
       "      <td>11/30/2018 7:03</td>\n",
       "      <td>SM2</td>\n",
       "      <td>2005557</td>\n",
       "      <td>Batten</td>\n",
       "      <td>4/4\\RusticBattensD15\"</td>\n",
       "      <td>308.479</td>\n",
       "      <td>7</td>\n",
       "      <td>...</td>\n",
       "      <td>1.1971</td>\n",
       "      <td>108.903</td>\n",
       "      <td>10.5614</td>\n",
       "      <td>NaN</td>\n",
       "      <td>12.223</td>\n",
       "      <td>1</td>\n",
       "      <td>NaN</td>\n",
       "      <td>1.8075</td>\n",
       "      <td>1</td>\n",
       "      <td>86</td>\n",
       "    </tr>\n",
       "    <tr>\n",
       "      <th>7</th>\n",
       "      <td>387920</td>\n",
       "      <td>690352</td>\n",
       "      <td>11/30/2018 6:21</td>\n",
       "      <td>11/30/2018 7:03</td>\n",
       "      <td>SM2</td>\n",
       "      <td>2005557</td>\n",
       "      <td>Batten</td>\n",
       "      <td>4/4\\RusticBattensD15\"</td>\n",
       "      <td>308.479</td>\n",
       "      <td>7</td>\n",
       "      <td>...</td>\n",
       "      <td>1.1971</td>\n",
       "      <td>108.903</td>\n",
       "      <td>10.5614</td>\n",
       "      <td>10.87</td>\n",
       "      <td>10.870</td>\n",
       "      <td>1</td>\n",
       "      <td>1.714</td>\n",
       "      <td>1.7140</td>\n",
       "      <td>1</td>\n",
       "      <td>54</td>\n",
       "    </tr>\n",
       "    <tr>\n",
       "      <th>608</th>\n",
       "      <td>388519</td>\n",
       "      <td>485979</td>\n",
       "      <td>12/2/2018 6:22</td>\n",
       "      <td>12/2/2018 7:00</td>\n",
       "      <td>SM1</td>\n",
       "      <td>2007431</td>\n",
       "      <td>Batten</td>\n",
       "      <td>5/16TexturedPlankB4</td>\n",
       "      <td>353.806</td>\n",
       "      <td>5</td>\n",
       "      <td>...</td>\n",
       "      <td>-0.6886</td>\n",
       "      <td>114.153</td>\n",
       "      <td>0.0000</td>\n",
       "      <td>NaN</td>\n",
       "      <td>7.103</td>\n",
       "      <td>1</td>\n",
       "      <td>NaN</td>\n",
       "      <td>1.1300</td>\n",
       "      <td>1</td>\n",
       "      <td>28</td>\n",
       "    </tr>\n",
       "  </tbody>\n",
       "</table>\n",
       "<p>5 rows × 61 columns</p>\n",
       "</div>"
      ],
      "text/plain": [
       "         id  number       started_at  manufactured_at line  SMMainGroup  \\\n",
       "0    387913  690349  11/30/2018 5:45  11/30/2018 6:15  SM2      2005557   \n",
       "1    387914  690350  11/30/2018 5:45  11/30/2018 6:15  SM2      2005557   \n",
       "6    387919  690351  11/30/2018 6:21  11/30/2018 7:03  SM2      2005557   \n",
       "7    387920  690352  11/30/2018 6:21  11/30/2018 7:03  SM2      2005557   \n",
       "608  388519  485979   12/2/2018 6:22   12/2/2018 7:00  SM1      2007431   \n",
       "\n",
       "    product_group       product_material  felt_speed  revs       ...         \\\n",
       "0          Batten  4/4\\RusticBattensD15\"     306.870     7       ...          \n",
       "1          Batten  4/4\\RusticBattensD15\"     306.870     7       ...          \n",
       "6          Batten  4/4\\RusticBattensD15\"     308.479     7       ...          \n",
       "7          Batten  4/4\\RusticBattensD15\"     308.479     7       ...          \n",
       "608        Batten    5/16TexturedPlankB4     353.806     5       ...          \n",
       "\n",
       "     cosmos_silica_error  feed_temperature  machine_cone_solids    mor  \\\n",
       "0                -0.4171           108.603              10.7119    NaN   \n",
       "1                -0.4171           108.603              10.7119    NaN   \n",
       "6                 1.1971           108.903              10.5614    NaN   \n",
       "7                 1.1971           108.903              10.5614  10.87   \n",
       "608              -0.6886           114.153               0.0000    NaN   \n",
       "\n",
       "     mor_filled  mor_in_spec    ilb  ilb_filled  ilb_in_spec  cosmos_fracture  \n",
       "0        12.223            1    NaN      1.8075            1               86  \n",
       "1        12.223            1    NaN      1.8075            1               86  \n",
       "6        12.223            1    NaN      1.8075            1               86  \n",
       "7        10.870            1  1.714      1.7140            1               54  \n",
       "608       7.103            1    NaN      1.1300            1               28  \n",
       "\n",
       "[5 rows x 61 columns]"
      ]
     },
     "execution_count": 640,
     "metadata": {},
     "output_type": "execute_result"
    }
   ],
   "source": [
    "# Get Data from Excel file into DataFrame and filter data for speciic product groups and machine lines\n",
    "file ='data.csv'\n",
    "df = pd.read_csv(file)\n",
    "\n",
    "df1 = df['product_group']=='Backer'\n",
    "df2 = df[((df['line']=='SM1') | (df['line']=='SM2')| (df['line']=='SM3')) & (df['product_group']=='Batten')]\n",
    "df3 = df['line']=='SM2'\n",
    "\n",
    "#df=df[df1 & df2 ]\n",
    "df2.head()"
   ]
  },
  {
   "cell_type": "code",
   "execution_count": 641,
   "metadata": {},
   "outputs": [
    {
     "data": {
      "text/html": [
       "<div>\n",
       "<style scoped>\n",
       "    .dataframe tbody tr th:only-of-type {\n",
       "        vertical-align: middle;\n",
       "    }\n",
       "\n",
       "    .dataframe tbody tr th {\n",
       "        vertical-align: top;\n",
       "    }\n",
       "\n",
       "    .dataframe thead th {\n",
       "        text-align: right;\n",
       "    }\n",
       "</style>\n",
       "<table border=\"1\" class=\"dataframe\">\n",
       "  <thead>\n",
       "    <tr style=\"text-align: right;\">\n",
       "      <th></th>\n",
       "      <th>cosmos_cement_sp</th>\n",
       "      <th>cosmos_silica_error</th>\n",
       "      <th>felt_speed</th>\n",
       "      <th>feed_temperature</th>\n",
       "      <th>cement_batch_setpoint</th>\n",
       "      <th>pulp_batch_error</th>\n",
       "      <th>tread_roll_pressure</th>\n",
       "      <th>pulp_batch_setpoint</th>\n",
       "      <th>agipulper_percent_solids</th>\n",
       "      <th>sheets</th>\n",
       "      <th>mor_filled</th>\n",
       "    </tr>\n",
       "  </thead>\n",
       "  <tbody>\n",
       "    <tr>\n",
       "      <th>0</th>\n",
       "      <td>370.0</td>\n",
       "      <td>-0.4171</td>\n",
       "      <td>306.870</td>\n",
       "      <td>108.603</td>\n",
       "      <td>882.0</td>\n",
       "      <td>0.4441</td>\n",
       "      <td>33.14300</td>\n",
       "      <td>6105.00</td>\n",
       "      <td>18.7212</td>\n",
       "      <td>42</td>\n",
       "      <td>12.223</td>\n",
       "    </tr>\n",
       "    <tr>\n",
       "      <th>1</th>\n",
       "      <td>370.0</td>\n",
       "      <td>-0.4171</td>\n",
       "      <td>306.870</td>\n",
       "      <td>108.603</td>\n",
       "      <td>882.0</td>\n",
       "      <td>0.4441</td>\n",
       "      <td>33.14300</td>\n",
       "      <td>6105.00</td>\n",
       "      <td>18.7212</td>\n",
       "      <td>42</td>\n",
       "      <td>12.223</td>\n",
       "    </tr>\n",
       "    <tr>\n",
       "      <th>6</th>\n",
       "      <td>370.0</td>\n",
       "      <td>1.1971</td>\n",
       "      <td>308.479</td>\n",
       "      <td>108.903</td>\n",
       "      <td>857.0</td>\n",
       "      <td>6.8926</td>\n",
       "      <td>33.12640</td>\n",
       "      <td>5911.33</td>\n",
       "      <td>22.6126</td>\n",
       "      <td>14</td>\n",
       "      <td>12.223</td>\n",
       "    </tr>\n",
       "    <tr>\n",
       "      <th>7</th>\n",
       "      <td>370.0</td>\n",
       "      <td>1.1971</td>\n",
       "      <td>308.479</td>\n",
       "      <td>108.903</td>\n",
       "      <td>857.0</td>\n",
       "      <td>6.8926</td>\n",
       "      <td>33.12640</td>\n",
       "      <td>5911.33</td>\n",
       "      <td>22.6126</td>\n",
       "      <td>14</td>\n",
       "      <td>10.870</td>\n",
       "    </tr>\n",
       "    <tr>\n",
       "      <th>608</th>\n",
       "      <td>370.0</td>\n",
       "      <td>-0.6886</td>\n",
       "      <td>353.806</td>\n",
       "      <td>114.153</td>\n",
       "      <td>568.0</td>\n",
       "      <td>42.2613</td>\n",
       "      <td>32.45765</td>\n",
       "      <td>3784.00</td>\n",
       "      <td>23.2679</td>\n",
       "      <td>72</td>\n",
       "      <td>7.103</td>\n",
       "    </tr>\n",
       "  </tbody>\n",
       "</table>\n",
       "</div>"
      ],
      "text/plain": [
       "     cosmos_cement_sp  cosmos_silica_error  felt_speed  feed_temperature  \\\n",
       "0               370.0              -0.4171     306.870           108.603   \n",
       "1               370.0              -0.4171     306.870           108.603   \n",
       "6               370.0               1.1971     308.479           108.903   \n",
       "7               370.0               1.1971     308.479           108.903   \n",
       "608             370.0              -0.6886     353.806           114.153   \n",
       "\n",
       "     cement_batch_setpoint  pulp_batch_error  tread_roll_pressure  \\\n",
       "0                    882.0            0.4441             33.14300   \n",
       "1                    882.0            0.4441             33.14300   \n",
       "6                    857.0            6.8926             33.12640   \n",
       "7                    857.0            6.8926             33.12640   \n",
       "608                  568.0           42.2613             32.45765   \n",
       "\n",
       "     pulp_batch_setpoint  agipulper_percent_solids  sheets  mor_filled  \n",
       "0                6105.00                   18.7212      42      12.223  \n",
       "1                6105.00                   18.7212      42      12.223  \n",
       "6                5911.33                   22.6126      14      12.223  \n",
       "7                5911.33                   22.6126      14      10.870  \n",
       "608              3784.00                   23.2679      72       7.103  "
      ]
     },
     "execution_count": 641,
     "metadata": {},
     "output_type": "execute_result"
    }
   ],
   "source": [
    "\n",
    "#Select few variables to begin with in your data frame\n",
    "datat=df2[[\"cosmos_cement_sp\",\"cosmos_silica_error\", \"felt_speed\",\"feed_temperature\",\n",
    "          \"cement_batch_setpoint\",\"pulp_batch_error\",\"tread_roll_pressure\",\"pulp_batch_setpoint\",\n",
    "          \"agipulper_percent_solids\",\"sheets\", \"mor_filled\"]]\n",
    "\n",
    "# Delete NULL records\n",
    "data=datat.dropna()\n",
    "\n",
    "data.head()\n"
   ]
  },
  {
   "cell_type": "code",
   "execution_count": 642,
   "metadata": {},
   "outputs": [
    {
     "name": "stdout",
     "output_type": "stream",
     "text": [
      "(232, 10) (232,)\n"
     ]
    }
   ],
   "source": [
    "# Separate Target value columns to make input variables ( feautures)\n",
    "\n",
    "X = data.drop(\"mor_filled\",axis=1)\n",
    "\n",
    "# Keep Target value column as dependent variable y\n",
    "y = data[\"mor_filled\"]\n",
    "\n",
    "print(X.shape, y.shape)"
   ]
  },
  {
   "cell_type": "code",
   "execution_count": 643,
   "metadata": {},
   "outputs": [
    {
     "name": "stdout",
     "output_type": "stream",
     "text": [
      "R2 Score: 0.972348636388173\n"
     ]
    }
   ],
   "source": [
    "from sklearn.linear_model import LinearRegression\n",
    "model = LinearRegression()\n",
    "\n",
    "# Fitting our model with all of our features in X\n",
    "model.fit(X, y)\n",
    "\n",
    "score = model.score(X, y)\n",
    "print(f\"R2 Score: {score}\")"
   ]
  },
  {
   "cell_type": "code",
   "execution_count": 644,
   "metadata": {},
   "outputs": [
    {
     "name": "stdout",
     "output_type": "stream",
     "text": [
      "Mean Squared Error (MSE): 0.10948618116599414\n",
      "R-squared (R2 ): 0.972348636388173\n",
      "Intercept : -8.773120947201697\n",
      "No of Coefficients : 10\n"
     ]
    }
   ],
   "source": [
    "from sklearn.metrics import mean_squared_error, r2_score\n",
    "\n",
    "# Use our model to predict a value\n",
    "predicted = model.predict(X)\n",
    "\n",
    "# Score the prediction with mse and r2\n",
    "mse = mean_squared_error(y, predicted)\n",
    "r2 = r2_score(y, predicted)\n",
    "ic = model.intercept_\n",
    "coef = len(model.coef_)\n",
    "\n",
    "print(f\"Mean Squared Error (MSE): {mse}\")\n",
    "print(f\"R-squared (R2 ): {r2}\")\n",
    "print(f\"Intercept : {ic}\")\n",
    "print(f\"No of Coefficients : {coef}\")"
   ]
  },
  {
   "cell_type": "code",
   "execution_count": 645,
   "metadata": {},
   "outputs": [],
   "source": [
    "features = pd.DataFrame(list(zip(X.columns, model.coef_)), columns =['features','estCoefficients'])\n",
    "features.to_excel(\"coefficients.xlsx\")"
   ]
  },
  {
   "cell_type": "code",
   "execution_count": 646,
   "metadata": {},
   "outputs": [
    {
     "data": {
      "text/plain": [
       "<function matplotlib.pyplot.show(*args, **kw)>"
      ]
     },
     "execution_count": 646,
     "metadata": {},
     "output_type": "execute_result"
    },
    {
     "data": {
      "image/png": "[encoded data removed]",
      "text/plain": [
       "<Figure size 432x288 with 1 Axes>"
      ]
     },
     "metadata": {},
     "output_type": "display_data"
    }
   ],
   "source": [
    "plt.scatter(data.tread_roll_pressure,data.mor_filled)\n",
    "plt.xlabel(\"Tread Roll Pressure\")\n",
    "plt.ylabel(\"MOR Value\")\n",
    "plt.title(\"Tread Roll Pressure vs MOR Value\")\n",
    "plt.show"
   ]
  },
  {
   "cell_type": "code",
   "execution_count": 647,
   "metadata": {},
   "outputs": [
    {
     "data": {
      "text/plain": [
       "array([10.91878253, 10.91878253, 11.09220883, 11.09220883,  7.09483736])"
      ]
     },
     "execution_count": 647,
     "metadata": {},
     "output_type": "execute_result"
    }
   ],
   "source": [
    "model.predict(X)[0:5]"
   ]
  },
  {
   "cell_type": "code",
   "execution_count": 648,
   "metadata": {},
   "outputs": [
    {
     "data": {
      "text/plain": [
       "<function matplotlib.pyplot.show(*args, **kw)>"
      ]
     },
     "execution_count": 648,
     "metadata": {},
     "output_type": "execute_result"
    },
    {
     "data": {
      "image/png": "[encoded data removed]",
      "text/plain": [
       "<Figure size 432x288 with 1 Axes>"
      ]
     },
     "metadata": {},
     "output_type": "display_data"
    }
   ],
   "source": [
    "plt.scatter(data.mor_filled,model.predict(X))\n",
    "plt.xlabel(\"Actual MOR Value\")\n",
    "plt.ylabel(\"Predicted MOR Value\")\n",
    "plt.show"
   ]
  },
  {
   "cell_type": "code",
   "execution_count": 649,
   "metadata": {},
   "outputs": [
    {
     "data": {
      "image/png": "[encoded data removed]",
      "text/plain": [
       "<Figure size 432x288 with 1 Axes>"
      ]
     },
     "metadata": {},
     "output_type": "display_data"
    }
   ],
   "source": [
    "# Plot Residuals\n",
    "predictions = model.predict(X)\n",
    "plt.scatter(predictions, predictions - y)\n",
    "plt.hlines(y=0, xmin=predictions.min(), xmax=predictions.max())\n",
    "plt.xlabel(\"Prediced MOR Value\")\n",
    "plt.ylabel(\"Residual Value\")\n",
    "plt.show()"
   ]
  },
  {
   "cell_type": "code",
   "execution_count": 650,
   "metadata": {},
   "outputs": [],
   "source": [
    "# Use of Test Train Split Models in Linear Regression"
   ]
  },
  {
   "cell_type": "code",
   "execution_count": 651,
   "metadata": {},
   "outputs": [
    {
     "name": "stdout",
     "output_type": "stream",
     "text": [
      "(155, 10)\n",
      "(155,)\n",
      "(77, 10)\n",
      "(77,)\n"
     ]
    }
   ],
   "source": [
    "from sklearn.model_selection import train_test_split\n",
    "\n",
    "X_train, X_test, Y_train, Y_test = train_test_split(X,y,test_size=0.33, random_state =42)\n",
    "print(X_train.shape)\n",
    "print(Y_train.shape)\n",
    "print(X_test.shape)\n",
    "print(Y_test.shape)"
   ]
  },
  {
   "cell_type": "code",
   "execution_count": 652,
   "metadata": {},
   "outputs": [
    {
     "name": "stdout",
     "output_type": "stream",
     "text": [
      "Mean Squared Error (MSE): 0.10729281013621203\n",
      "R-squared (R2 ): 0.9733841757939826\n",
      "Intercept : -9.093154562433584\n",
      "No of Coefficients : 10\n"
     ]
    }
   ],
   "source": [
    "model.fit(X_train,Y_train)\n",
    "predict_train = model.predict(X_train)\n",
    "predict_test = model.predict(X_test)\n",
    "\n",
    "# Score the prediction with mse and r2\n",
    "mse1 = mean_squared_error(Y_train, predict_train)\n",
    "r21 = r2_score(Y_train, predict_train)\n",
    "ic1 = model.intercept_\n",
    "coef1 = len(model.coef_)\n",
    "\n",
    "print(f\"Mean Squared Error (MSE): {mse1}\")\n",
    "print(f\"R-squared (R2 ): {r21}\")\n",
    "print(f\"Intercept : {ic1}\")\n",
    "print(f\"No of Coefficients : {coef1}\")"
   ]
  },
  {
   "cell_type": "code",
   "execution_count": 653,
   "metadata": {},
   "outputs": [
    {
     "data": {
      "text/plain": [
       "<function matplotlib.pyplot.show(*args, **kw)>"
      ]
     },
     "execution_count": 653,
     "metadata": {},
     "output_type": "execute_result"
    },
    {
     "data": {
      "image/png": "[encoded data removed]",
      "text/plain": [
       "<Figure size 432x288 with 1 Axes>"
      ]
     },
     "metadata": {},
     "output_type": "display_data"
    }
   ],
   "source": [
    "#plt.scatter(predict_train, predict_train - Y_train, c='b', s=40, alpha =.5)\n",
    "plt.scatter(predict_test, predict_test - Y_test, c='b', s=40, alpha =0.5)\n",
    "plt.xlabel(\"Predict_Test\")\n",
    "plt.ylabel(\"Error_Test\")\n",
    "plt.hlines(y=0, xmin =0, xmax =12)\n",
    "plt.show"
   ]
  },
  {
   "cell_type": "code",
   "execution_count": 654,
   "metadata": {},
   "outputs": [],
   "source": [
    "# Join the Predicted Value of MOR with the main data set and then write to Excel File\n",
    "\n",
    "MOR_P = pd.DataFrame( {'MOR_Filled':Y_test,'MOR_Predicted':predict_test })\n",
    "MOR_P\n",
    "dataset = X_test.join(MOR_P)\n",
    "dataset.head()\n",
    "dataset.to_excel(\"Test.xlsx\")\n"
   ]
  },
  {
   "cell_type": "code",
   "execution_count": null,
   "metadata": {},
   "outputs": [],
   "source": []
  },
  {
   "cell_type": "code",
   "execution_count": null,
   "metadata": {},
   "outputs": [],
   "source": []
  }
 ],
 "metadata": {
  "kernelspec": {
   "display_name": "Python 3",
   "language": "python",
   "name": "python3"
  },
  "language_info": {
   "codemirror_mode": {
    "name": "ipython",
    "version": 3
   },
   "file_extension": ".py",
   "mimetype": "text/x-python",
   "name": "python",
   "nbconvert_exporter": "python",
   "pygments_lexer": "ipython3",
   "version": "3.6.5"
  }
 },
 "nbformat": 4,
 "nbformat_minor": 2
}
